{
 "cells": [
  {
   "cell_type": "code",
   "execution_count": 1,
   "id": "cb46d8b4",
   "metadata": {},
   "outputs": [],
   "source": [
    "import numpy as np\n",
    "import pandas as pd\n",
    "import statsmodels.api as sm\n",
    "from statsmodels.stats.outliers_influence import variance_inflation_factor\n",
    "import matplotlib.pyplot as plt\n",
    "import statsmodels.formula.api as smf"
   ]
  },
  {
   "cell_type": "markdown",
   "id": "765c568d",
   "metadata": {},
   "source": [
    "## 1. Linear Regression Model"
   ]
  },
  {
   "cell_type": "code",
   "execution_count": 288,
   "id": "79ac6700",
   "metadata": {},
   "outputs": [],
   "source": [
    "train = pd.read_csv(\"project_train.csv\")\n",
    "test = pd.read_csv(\"project_test.csv\")"
   ]
  },
  {
   "cell_type": "code",
   "execution_count": 289,
   "id": "ed30d887",
   "metadata": {},
   "outputs": [],
   "source": [
    "dataframe = pd.read_csv(\"final_dataframe.csv\")"
   ]
  },
  {
   "cell_type": "code",
   "execution_count": 290,
   "id": "9b5778e4",
   "metadata": {},
   "outputs": [
    {
     "data": {
      "text/html": [
       "<div>\n",
       "<style scoped>\n",
       "    .dataframe tbody tr th:only-of-type {\n",
       "        vertical-align: middle;\n",
       "    }\n",
       "\n",
       "    .dataframe tbody tr th {\n",
       "        vertical-align: top;\n",
       "    }\n",
       "\n",
       "    .dataframe thead th {\n",
       "        text-align: right;\n",
       "    }\n",
       "</style>\n",
       "<table border=\"1\" class=\"dataframe\">\n",
       "  <thead>\n",
       "    <tr style=\"text-align: right;\">\n",
       "      <th></th>\n",
       "      <th>Unnamed: 0</th>\n",
       "      <th>County</th>\n",
       "      <th>MonthNumeric</th>\n",
       "      <th>Year</th>\n",
       "      <th>MedianPrice</th>\n",
       "      <th>PercentageOfBachelorDegree</th>\n",
       "      <th>Per_capita_income</th>\n",
       "      <th>total_law_enforcement</th>\n",
       "      <th>Precipitation</th>\n",
       "      <th>Population</th>\n",
       "      <th>...</th>\n",
       "      <th>LocalTaxRate</th>\n",
       "      <th>ViolentCrimeRate</th>\n",
       "      <th>PropertyCrimeRate</th>\n",
       "      <th>NationalRiskIndex</th>\n",
       "      <th>Urban</th>\n",
       "      <th>Suburban</th>\n",
       "      <th>Rural</th>\n",
       "      <th>HasWalMart</th>\n",
       "      <th>HasCostco</th>\n",
       "      <th>MajorIndustry</th>\n",
       "    </tr>\n",
       "  </thead>\n",
       "  <tbody>\n",
       "    <tr>\n",
       "      <th>0</th>\n",
       "      <td>0</td>\n",
       "      <td>Alameda County</td>\n",
       "      <td>1</td>\n",
       "      <td>2010</td>\n",
       "      <td>383330.0</td>\n",
       "      <td>0.447</td>\n",
       "      <td>47576</td>\n",
       "      <td>1635.0</td>\n",
       "      <td>21.39</td>\n",
       "      <td>1509240.0</td>\n",
       "      <td>...</td>\n",
       "      <td>0.1075</td>\n",
       "      <td>2.52679</td>\n",
       "      <td>2.89295</td>\n",
       "      <td>40.4</td>\n",
       "      <td>1</td>\n",
       "      <td>0</td>\n",
       "      <td>0</td>\n",
       "      <td>1</td>\n",
       "      <td>1</td>\n",
       "      <td>Government</td>\n",
       "    </tr>\n",
       "    <tr>\n",
       "      <th>1</th>\n",
       "      <td>1</td>\n",
       "      <td>Alameda County</td>\n",
       "      <td>2</td>\n",
       "      <td>2010</td>\n",
       "      <td>410230.0</td>\n",
       "      <td>0.447</td>\n",
       "      <td>47576</td>\n",
       "      <td>1635.0</td>\n",
       "      <td>21.39</td>\n",
       "      <td>1509240.0</td>\n",
       "      <td>...</td>\n",
       "      <td>0.1075</td>\n",
       "      <td>2.52679</td>\n",
       "      <td>2.89295</td>\n",
       "      <td>40.4</td>\n",
       "      <td>1</td>\n",
       "      <td>0</td>\n",
       "      <td>0</td>\n",
       "      <td>1</td>\n",
       "      <td>1</td>\n",
       "      <td>Government</td>\n",
       "    </tr>\n",
       "    <tr>\n",
       "      <th>2</th>\n",
       "      <td>2</td>\n",
       "      <td>Alameda County</td>\n",
       "      <td>3</td>\n",
       "      <td>2010</td>\n",
       "      <td>432720.0</td>\n",
       "      <td>0.447</td>\n",
       "      <td>47576</td>\n",
       "      <td>1635.0</td>\n",
       "      <td>21.39</td>\n",
       "      <td>1509240.0</td>\n",
       "      <td>...</td>\n",
       "      <td>0.1075</td>\n",
       "      <td>2.52679</td>\n",
       "      <td>2.89295</td>\n",
       "      <td>40.4</td>\n",
       "      <td>1</td>\n",
       "      <td>0</td>\n",
       "      <td>0</td>\n",
       "      <td>1</td>\n",
       "      <td>1</td>\n",
       "      <td>Government</td>\n",
       "    </tr>\n",
       "    <tr>\n",
       "      <th>3</th>\n",
       "      <td>3</td>\n",
       "      <td>Alameda County</td>\n",
       "      <td>4</td>\n",
       "      <td>2010</td>\n",
       "      <td>407830.0</td>\n",
       "      <td>0.447</td>\n",
       "      <td>47576</td>\n",
       "      <td>1635.0</td>\n",
       "      <td>21.39</td>\n",
       "      <td>1509240.0</td>\n",
       "      <td>...</td>\n",
       "      <td>0.1075</td>\n",
       "      <td>2.52679</td>\n",
       "      <td>2.89295</td>\n",
       "      <td>40.4</td>\n",
       "      <td>1</td>\n",
       "      <td>0</td>\n",
       "      <td>0</td>\n",
       "      <td>1</td>\n",
       "      <td>1</td>\n",
       "      <td>Government</td>\n",
       "    </tr>\n",
       "    <tr>\n",
       "      <th>4</th>\n",
       "      <td>4</td>\n",
       "      <td>Alameda County</td>\n",
       "      <td>5</td>\n",
       "      <td>2010</td>\n",
       "      <td>472370.0</td>\n",
       "      <td>0.447</td>\n",
       "      <td>47576</td>\n",
       "      <td>1635.0</td>\n",
       "      <td>21.39</td>\n",
       "      <td>1509240.0</td>\n",
       "      <td>...</td>\n",
       "      <td>0.1075</td>\n",
       "      <td>2.52679</td>\n",
       "      <td>2.89295</td>\n",
       "      <td>40.4</td>\n",
       "      <td>1</td>\n",
       "      <td>0</td>\n",
       "      <td>0</td>\n",
       "      <td>1</td>\n",
       "      <td>1</td>\n",
       "      <td>Government</td>\n",
       "    </tr>\n",
       "  </tbody>\n",
       "</table>\n",
       "<p>5 rows × 26 columns</p>\n",
       "</div>"
      ],
      "text/plain": [
       "   Unnamed: 0          County  MonthNumeric  Year  MedianPrice  \\\n",
       "0           0  Alameda County             1  2010     383330.0   \n",
       "1           1  Alameda County             2  2010     410230.0   \n",
       "2           2  Alameda County             3  2010     432720.0   \n",
       "3           3  Alameda County             4  2010     407830.0   \n",
       "4           4  Alameda County             5  2010     472370.0   \n",
       "\n",
       "   PercentageOfBachelorDegree  Per_capita_income  total_law_enforcement  \\\n",
       "0                       0.447              47576                 1635.0   \n",
       "1                       0.447              47576                 1635.0   \n",
       "2                       0.447              47576                 1635.0   \n",
       "3                       0.447              47576                 1635.0   \n",
       "4                       0.447              47576                 1635.0   \n",
       "\n",
       "   Precipitation  Population  ...  LocalTaxRate  ViolentCrimeRate  \\\n",
       "0          21.39   1509240.0  ...        0.1075           2.52679   \n",
       "1          21.39   1509240.0  ...        0.1075           2.52679   \n",
       "2          21.39   1509240.0  ...        0.1075           2.52679   \n",
       "3          21.39   1509240.0  ...        0.1075           2.52679   \n",
       "4          21.39   1509240.0  ...        0.1075           2.52679   \n",
       "\n",
       "   PropertyCrimeRate  NationalRiskIndex  Urban  Suburban  Rural  HasWalMart  \\\n",
       "0            2.89295               40.4      1         0      0           1   \n",
       "1            2.89295               40.4      1         0      0           1   \n",
       "2            2.89295               40.4      1         0      0           1   \n",
       "3            2.89295               40.4      1         0      0           1   \n",
       "4            2.89295               40.4      1         0      0           1   \n",
       "\n",
       "   HasCostco  MajorIndustry  \n",
       "0          1     Government  \n",
       "1          1     Government  \n",
       "2          1     Government  \n",
       "3          1     Government  \n",
       "4          1     Government  \n",
       "\n",
       "[5 rows x 26 columns]"
      ]
     },
     "execution_count": 290,
     "metadata": {},
     "output_type": "execute_result"
    }
   ],
   "source": [
    "train.head()"
   ]
  },
  {
   "cell_type": "code",
   "execution_count": 291,
   "id": "e45fb086",
   "metadata": {},
   "outputs": [],
   "source": [
    "train = train.drop(columns = [\"Unnamed: 0\"])\n",
    "test = test.drop(columns = [\"Unnamed: 0\"])"
   ]
  },
  {
   "cell_type": "code",
   "execution_count": 292,
   "id": "daaf7495",
   "metadata": {},
   "outputs": [
    {
     "name": "stdout",
     "output_type": "stream",
     "text": [
      "<class 'pandas.core.frame.DataFrame'>\n",
      "RangeIndex: 2520 entries, 0 to 2519\n",
      "Data columns (total 25 columns):\n",
      " #   Column                      Non-Null Count  Dtype  \n",
      "---  ------                      --------------  -----  \n",
      " 0   County                      2520 non-null   object \n",
      " 1   MonthNumeric                2520 non-null   int64  \n",
      " 2   Year                        2520 non-null   int64  \n",
      " 3   MedianPrice                 2520 non-null   float64\n",
      " 4   PercentageOfBachelorDegree  2520 non-null   float64\n",
      " 5   Per_capita_income           2520 non-null   int64  \n",
      " 6   total_law_enforcement       2520 non-null   float64\n",
      " 7   Precipitation               2520 non-null   float64\n",
      " 8   Population                  2520 non-null   float64\n",
      " 9   NumAirports                 2520 non-null   float64\n",
      " 10  GradRates                   2520 non-null   float64\n",
      " 11  CollegeEnrollmentRate       2520 non-null   float64\n",
      " 12  AvgHouseholdSize            2520 non-null   float64\n",
      " 13  Avg18Younger                2520 non-null   float64\n",
      " 14  Avg18Older                  2520 non-null   float64\n",
      " 15  LocalTaxRate                2520 non-null   float64\n",
      " 16  ViolentCrimeRate            2520 non-null   float64\n",
      " 17  PropertyCrimeRate           2520 non-null   float64\n",
      " 18  NationalRiskIndex           2520 non-null   float64\n",
      " 19  Urban                       2520 non-null   int64  \n",
      " 20  Suburban                    2520 non-null   int64  \n",
      " 21  Rural                       2520 non-null   int64  \n",
      " 22  HasWalMart                  2520 non-null   int64  \n",
      " 23  HasCostco                   2520 non-null   int64  \n",
      " 24  MajorIndustry               2520 non-null   object \n",
      "dtypes: float64(15), int64(8), object(2)\n",
      "memory usage: 492.3+ KB\n"
     ]
    }
   ],
   "source": [
    "train.info()"
   ]
  },
  {
   "cell_type": "code",
   "execution_count": 293,
   "id": "95643045",
   "metadata": {},
   "outputs": [],
   "source": [
    "y_test = test['MedianPrice']\n",
    "y_train = train['MedianPrice']"
   ]
  },
  {
   "cell_type": "code",
   "execution_count": 301,
   "id": "5fea3ae1",
   "metadata": {},
   "outputs": [
    {
     "name": "stdout",
     "output_type": "stream",
     "text": [
      "                            OLS Regression Results                            \n",
      "==============================================================================\n",
      "Dep. Variable:            MedianPrice   R-squared:                       0.918\n",
      "Model:                            OLS   Adj. R-squared:                  0.918\n",
      "Method:                 Least Squares   F-statistic:                     1871.\n",
      "Date:                Sat, 18 Dec 2021   Prob (F-statistic):               0.00\n",
      "Time:                        09:57:39   Log-Likelihood:                -31375.\n",
      "No. Observations:                2520   AIC:                         6.278e+04\n",
      "Df Residuals:                    2504   BIC:                         6.287e+04\n",
      "Df Model:                          15                                         \n",
      "Covariance Type:            nonrobust                                         \n",
      "==============================================================================================\n",
      "                                 coef    std err          t      P>|t|      [0.025      0.975]\n",
      "----------------------------------------------------------------------------------------------\n",
      "const                      -1.502e+06    5.7e+04    -26.338      0.000   -1.61e+06   -1.39e+06\n",
      "PercentageOfBachelorDegree  1.029e+05   2.89e+04      3.561      0.000    4.63e+04     1.6e+05\n",
      "Per_capita_income             12.3419      0.163     75.720      0.000      12.022      12.661\n",
      "total_law_enforcement        -40.8654      3.721    -10.984      0.000     -48.161     -33.570\n",
      "Precipitation               -937.9133    120.891     -7.758      0.000   -1174.970    -700.857\n",
      "Population                     0.0427      0.006      7.257      0.000       0.031       0.054\n",
      "NumAirports                -1185.3089    257.971     -4.595      0.000   -1691.168    -679.450\n",
      "GradRates                   5.162e+05   3.13e+04     16.497      0.000    4.55e+05    5.78e+05\n",
      "CollegeEnrollmentRate      -1234.0160    245.017     -5.036      0.000   -1714.473    -753.559\n",
      "AvgHouseholdSize           -4.828e+05   3.02e+05     -1.599      0.110   -1.07e+06    1.09e+05\n",
      "Avg18Younger                8.843e+04   3.08e+05      0.287      0.774   -5.15e+05    6.92e+05\n",
      "Avg18Older                  1.025e+06   2.98e+05      3.443      0.001    4.41e+05    1.61e+06\n",
      "LocalTaxRate                2.661e+05   2.08e+05      1.277      0.202   -1.43e+05    6.75e+05\n",
      "ViolentCrimeRate            2.628e+04   2096.856     12.535      0.000    2.22e+04    3.04e+04\n",
      "PropertyCrimeRate          -2.039e+04   2171.227     -9.389      0.000   -2.46e+04   -1.61e+04\n",
      "NationalRiskIndex           2862.2010    237.424     12.055      0.000    2396.634    3327.768\n",
      "==============================================================================\n",
      "Omnibus:                       86.425   Durbin-Watson:                   0.284\n",
      "Prob(Omnibus):                  0.000   Jarque-Bera (JB):              238.942\n",
      "Skew:                          -0.028   Prob(JB):                     1.30e-52\n",
      "Kurtosis:                       4.508   Cond. No.                     8.50e+08\n",
      "==============================================================================\n",
      "\n",
      "Notes:\n",
      "[1] Standard Errors assume that the covariance matrix of the errors is correctly specified.\n",
      "[2] The condition number is large, 8.5e+08. This might indicate that there are\n",
      "strong multicollinearity or other numerical problems.\n"
     ]
    }
   ],
   "source": [
    "import statsmodels.api as sm\n",
    "\n",
    "cols1 = ['PercentageOfBachelorDegree', 'Per_capita_income', 'total_law_enforcement'\n",
    "        , 'Precipitation', 'Population', 'NumAirports', 'GradRates', 'CollegeEnrollmentRate'\n",
    "        , 'AvgHouseholdSize', 'Avg18Younger', 'Avg18Older', 'LocalTaxRate'\n",
    "        , 'ViolentCrimeRate', 'PropertyCrimeRate', 'NationalRiskIndex']\n",
    "\n",
    "X_train_1 = train[cols1]\n",
    "\n",
    "# We must add an intercept as the standard model doesn't automatically fit one\n",
    "X_train_1 = sm.add_constant(X_train_1)\n",
    "\n",
    "# Fit the data to the model\n",
    "model1 = sm.OLS(y_train, X_train_1).fit() #ordinary least square\n",
    "print(model1.summary())"
   ]
  },
  {
   "cell_type": "code",
   "execution_count": 295,
   "id": "73d15f13",
   "metadata": {},
   "outputs": [
    {
     "data": {
      "text/plain": [
       "PercentageOfBachelorDegree       3.004794\n",
       "Per_capita_income                4.006346\n",
       "total_law_enforcement           74.213519\n",
       "Precipitation                    2.398861\n",
       "Population                      69.484114\n",
       "NumAirports                      2.801892\n",
       "GradRates                        1.270440\n",
       "CollegeEnrollmentRate            2.042514\n",
       "AvgHouseholdSize              5504.942072\n",
       "Avg18Younger                  1930.704553\n",
       "Avg18Older                    1124.959379\n",
       "LocalTaxRate                     1.734859\n",
       "ViolentCrimeRate                 2.885654\n",
       "PropertyCrimeRate                2.605628\n",
       "NationalRiskIndex                8.967455\n",
       "dtype: float64"
      ]
     },
     "execution_count": 295,
     "metadata": {},
     "output_type": "execute_result"
    }
   ],
   "source": [
    "from statsmodels.stats.outliers_influence import variance_inflation_factor\n",
    "\n",
    "def VIF(df, columns):\n",
    "    values = sm.add_constant(df[columns]).values\n",
    "    num_columns = len(columns)+1\n",
    "    vif = [variance_inflation_factortion_factor(values, i) for i in range(num_columns)]\n",
    "    return pd.Series(vif[1:], index=columns)\n",
    "\n",
    "VIF(train, cols)"
   ]
  },
  {
   "cell_type": "markdown",
   "id": "de63f009",
   "metadata": {},
   "source": [
    "Remove Average Household Size, Average number of people younger than 18, and Average number of people older than 18 will be removed due to high VIF values."
   ]
  },
  {
   "cell_type": "code",
   "execution_count": 302,
   "id": "5993fbd7",
   "metadata": {},
   "outputs": [
    {
     "name": "stdout",
     "output_type": "stream",
     "text": [
      "                            OLS Regression Results                            \n",
      "==============================================================================\n",
      "Dep. Variable:            MedianPrice   R-squared:                       0.906\n",
      "Model:                            OLS   Adj. R-squared:                  0.905\n",
      "Method:                 Least Squares   F-statistic:                     2005.\n",
      "Date:                Sat, 18 Dec 2021   Prob (F-statistic):               0.00\n",
      "Time:                        09:57:44   Log-Likelihood:                -31553.\n",
      "No. Observations:                2520   AIC:                         6.313e+04\n",
      "Df Residuals:                    2507   BIC:                         6.321e+04\n",
      "Df Model:                          12                                         \n",
      "Covariance Type:            nonrobust                                         \n",
      "==============================================================================================\n",
      "                                 coef    std err          t      P>|t|      [0.025      0.975]\n",
      "----------------------------------------------------------------------------------------------\n",
      "const                      -6.366e+05   3.57e+04    -17.814      0.000   -7.07e+05   -5.67e+05\n",
      "PercentageOfBachelorDegree  2.252e+05   2.77e+04      8.116      0.000    1.71e+05     2.8e+05\n",
      "Per_capita_income             12.1440      0.166     73.252      0.000      11.819      12.469\n",
      "total_law_enforcement        -57.6586      3.847    -14.989      0.000     -65.202     -50.115\n",
      "Precipitation              -1499.1670    110.158    -13.609      0.000   -1715.178   -1283.156\n",
      "Population                     0.0672      0.006     11.064      0.000       0.055       0.079\n",
      "NumAirports                -2338.3422    257.180     -9.092      0.000   -2842.649   -1834.035\n",
      "GradRates                   5.284e+05   3.31e+04     15.945      0.000    4.63e+05    5.93e+05\n",
      "CollegeEnrollmentRate      -1729.5806    243.386     -7.106      0.000   -2206.839   -1252.322\n",
      "LocalTaxRate                5.695e+05   2.21e+05      2.576      0.010    1.36e+05       1e+06\n",
      "ViolentCrimeRate            1.382e+04   2139.610      6.458      0.000    9622.646     1.8e+04\n",
      "PropertyCrimeRate          -2.862e+04   2213.715    -12.931      0.000    -3.3e+04   -2.43e+04\n",
      "NationalRiskIndex           4408.9830    237.690     18.549      0.000    3942.894    4875.072\n",
      "==============================================================================\n",
      "Omnibus:                      120.507   Durbin-Watson:                   0.256\n",
      "Prob(Omnibus):                  0.000   Jarque-Bera (JB):              214.142\n",
      "Skew:                           0.371   Prob(JB):                     3.16e-47\n",
      "Kurtosis:                       4.220   Cond. No.                     3.36e+08\n",
      "==============================================================================\n",
      "\n",
      "Notes:\n",
      "[1] Standard Errors assume that the covariance matrix of the errors is correctly specified.\n",
      "[2] The condition number is large, 3.36e+08. This might indicate that there are\n",
      "strong multicollinearity or other numerical problems.\n"
     ]
    }
   ],
   "source": [
    "import statsmodels.api as sm\n",
    "\n",
    "cols2 = ['PercentageOfBachelorDegree', 'Per_capita_income', 'total_law_enforcement'\n",
    "        , 'Precipitation', 'Population', 'NumAirports', 'GradRates', 'CollegeEnrollmentRate'\n",
    "        , 'LocalTaxRate', 'ViolentCrimeRate', 'PropertyCrimeRate', 'NationalRiskIndex']\n",
    "\n",
    "X_train_2 = train[cols2]\n",
    "\n",
    "# We must add an intercept as the standard model doesn't automatically fit one\n",
    "X_train_2 = sm.add_constant(X_train_2)\n",
    "\n",
    "# Fit the data to the model\n",
    "model2 = sm.OLS(y_train, X_train_2).fit() #ordinary least square\n",
    "print(model2.summary())"
   ]
  },
  {
   "cell_type": "code",
   "execution_count": 304,
   "id": "773676ba",
   "metadata": {},
   "outputs": [
    {
     "data": {
      "text/plain": [
       "PercentageOfBachelorDegree     2.405569\n",
       "Per_capita_income              3.602468\n",
       "total_law_enforcement         68.956701\n",
       "Precipitation                  1.731260\n",
       "Population                    64.568234\n",
       "NumAirports                    2.420428\n",
       "GradRates                      1.238050\n",
       "CollegeEnrollmentRate          1.751750\n",
       "LocalTaxRate                   1.696392\n",
       "ViolentCrimeRate               2.611475\n",
       "PropertyCrimeRate              2.354264\n",
       "NationalRiskIndex              7.811807\n",
       "dtype: float64"
      ]
     },
     "execution_count": 304,
     "metadata": {},
     "output_type": "execute_result"
    }
   ],
   "source": [
    "VIF(X_train_2, cols2)"
   ]
  },
  {
   "cell_type": "code",
   "execution_count": 124,
   "id": "0ee28605",
   "metadata": {},
   "outputs": [],
   "source": [
    "X_test = test.drop(['MedianPrice'], axis=1)"
   ]
  },
  {
   "cell_type": "markdown",
   "id": "5bf9b5d6",
   "metadata": {},
   "source": [
    "Remove Population and Total law enforcement columns due to high VIF values."
   ]
  },
  {
   "cell_type": "code",
   "execution_count": 305,
   "id": "6a591a31",
   "metadata": {},
   "outputs": [
    {
     "name": "stdout",
     "output_type": "stream",
     "text": [
      "                            OLS Regression Results                            \n",
      "==============================================================================\n",
      "Dep. Variable:            MedianPrice   R-squared:                       0.892\n",
      "Model:                            OLS   Adj. R-squared:                  0.891\n",
      "Method:                 Least Squares   F-statistic:                     2064.\n",
      "Date:                Sat, 18 Dec 2021   Prob (F-statistic):               0.00\n",
      "Time:                        09:58:16   Log-Likelihood:                -31727.\n",
      "No. Observations:                2520   AIC:                         6.348e+04\n",
      "Df Residuals:                    2509   BIC:                         6.354e+04\n",
      "Df Model:                          10                                         \n",
      "Covariance Type:            nonrobust                                         \n",
      "==============================================================================================\n",
      "                                 coef    std err          t      P>|t|      [0.025      0.975]\n",
      "----------------------------------------------------------------------------------------------\n",
      "const                      -5.678e+05   3.77e+04    -15.073      0.000   -6.42e+05   -4.94e+05\n",
      "PercentageOfBachelorDegree  2.608e+05   2.86e+04      9.112      0.000    2.05e+05    3.17e+05\n",
      "Per_capita_income             10.9838      0.164     67.081      0.000      10.663      11.305\n",
      "Precipitation              -1942.1984    113.114    -17.170      0.000   -2164.006   -1720.391\n",
      "NumAirports                -1268.4764    266.823     -4.754      0.000   -1791.692    -745.260\n",
      "GradRates                   4.789e+05   3.54e+04     13.532      0.000    4.09e+05    5.48e+05\n",
      "CollegeEnrollmentRate       -318.9584    248.648     -1.283      0.200    -806.534     168.617\n",
      "LocalTaxRate                1.394e+06   2.29e+05      6.074      0.000    9.44e+05    1.84e+06\n",
      "ViolentCrimeRate            1.377e+04   2291.890      6.008      0.000    9275.948    1.83e+04\n",
      "PropertyCrimeRate          -3.683e+04   2325.944    -15.836      0.000   -4.14e+04   -3.23e+04\n",
      "NationalRiskIndex            805.6970    135.307      5.955      0.000     540.372    1071.022\n",
      "==============================================================================\n",
      "Omnibus:                       86.876   Durbin-Watson:                   0.226\n",
      "Prob(Omnibus):                  0.000   Jarque-Bera (JB):              135.129\n",
      "Skew:                           0.318   Prob(JB):                     4.54e-30\n",
      "Kurtosis:                       3.940   Cond. No.                     7.87e+06\n",
      "==============================================================================\n",
      "\n",
      "Notes:\n",
      "[1] Standard Errors assume that the covariance matrix of the errors is correctly specified.\n",
      "[2] The condition number is large, 7.87e+06. This might indicate that there are\n",
      "strong multicollinearity or other numerical problems.\n"
     ]
    }
   ],
   "source": [
    "import statsmodels.api as sm\n",
    "\n",
    "cols3 = ['PercentageOfBachelorDegree', 'Per_capita_income'\n",
    "        , 'Precipitation', 'NumAirports', 'GradRates', 'CollegeEnrollmentRate'\n",
    "        , 'LocalTaxRate', 'ViolentCrimeRate', 'PropertyCrimeRate', 'NationalRiskIndex']\n",
    "\n",
    "X_train3 = train[cols3]\n",
    "\n",
    "# We must add an intercept as the standard model doesn't automatically fit one\n",
    "X_train3 = sm.add_constant(X_train3)\n",
    "\n",
    "# Fit the data to the model\n",
    "model3 = sm.OLS(y_train, X_train3).fit() #ordinary least square\n",
    "print(model3.summary())"
   ]
  },
  {
   "cell_type": "code",
   "execution_count": 307,
   "id": "1360b21e",
   "metadata": {},
   "outputs": [
    {
     "data": {
      "text/plain": [
       "PercentageOfBachelorDegree    2.230129\n",
       "Per_capita_income             3.062457\n",
       "Precipitation                 1.590760\n",
       "NumAirports                   2.270422\n",
       "GradRates                     1.230622\n",
       "CollegeEnrollmentRate         1.593277\n",
       "LocalTaxRate                  1.592590\n",
       "ViolentCrimeRate              2.611237\n",
       "PropertyCrimeRate             2.264917\n",
       "NationalRiskIndex             2.206043\n",
       "dtype: float64"
      ]
     },
     "execution_count": 307,
     "metadata": {},
     "output_type": "execute_result"
    }
   ],
   "source": [
    "VIF(train, cols3)"
   ]
  },
  {
   "cell_type": "code",
   "execution_count": 309,
   "id": "bd263b2d",
   "metadata": {},
   "outputs": [
    {
     "name": "stdout",
     "output_type": "stream",
     "text": [
      "                            OLS Regression Results                            \n",
      "==============================================================================\n",
      "Dep. Variable:            MedianPrice   R-squared:                       0.892\n",
      "Model:                            OLS   Adj. R-squared:                  0.891\n",
      "Method:                 Least Squares   F-statistic:                     2064.\n",
      "Date:                Sat, 18 Dec 2021   Prob (F-statistic):               0.00\n",
      "Time:                        09:59:16   Log-Likelihood:                -31727.\n",
      "No. Observations:                2520   AIC:                         6.348e+04\n",
      "Df Residuals:                    2509   BIC:                         6.354e+04\n",
      "Df Model:                          10                                         \n",
      "Covariance Type:            nonrobust                                         \n",
      "==============================================================================================\n",
      "                                 coef    std err          t      P>|t|      [0.025      0.975]\n",
      "----------------------------------------------------------------------------------------------\n",
      "const                      -5.678e+05   3.77e+04    -15.073      0.000   -6.42e+05   -4.94e+05\n",
      "PercentageOfBachelorDegree  2.608e+05   2.86e+04      9.112      0.000    2.05e+05    3.17e+05\n",
      "Per_capita_income             10.9838      0.164     67.081      0.000      10.663      11.305\n",
      "Precipitation              -1942.1984    113.114    -17.170      0.000   -2164.006   -1720.391\n",
      "NumAirports                -1268.4764    266.823     -4.754      0.000   -1791.692    -745.260\n",
      "GradRates                   4.789e+05   3.54e+04     13.532      0.000    4.09e+05    5.48e+05\n",
      "CollegeEnrollmentRate       -318.9584    248.648     -1.283      0.200    -806.534     168.617\n",
      "LocalTaxRate                1.394e+06   2.29e+05      6.074      0.000    9.44e+05    1.84e+06\n",
      "ViolentCrimeRate            1.377e+04   2291.890      6.008      0.000    9275.948    1.83e+04\n",
      "PropertyCrimeRate          -3.683e+04   2325.944    -15.836      0.000   -4.14e+04   -3.23e+04\n",
      "NationalRiskIndex            805.6970    135.307      5.955      0.000     540.372    1071.022\n",
      "==============================================================================\n",
      "Omnibus:                       86.876   Durbin-Watson:                   0.226\n",
      "Prob(Omnibus):                  0.000   Jarque-Bera (JB):              135.129\n",
      "Skew:                           0.318   Prob(JB):                     4.54e-30\n",
      "Kurtosis:                       3.940   Cond. No.                     7.87e+06\n",
      "==============================================================================\n",
      "\n",
      "Notes:\n",
      "[1] Standard Errors assume that the covariance matrix of the errors is correctly specified.\n",
      "[2] The condition number is large, 7.87e+06. This might indicate that there are\n",
      "strong multicollinearity or other numerical problems.\n"
     ]
    }
   ],
   "source": [
    "cols4 = ['PercentageOfBachelorDegree', 'Per_capita_income', 'Precipitation', 'NumAirports', 'GradRates', 'CollegeEnrollmentRate'\n",
    "        , 'LocalTaxRate', 'ViolentCrimeRate', 'PropertyCrimeRate', 'NationalRiskIndex']\n",
    "\n",
    "X_train4 = train[cols4]\n",
    "X_test4 = test[cols4]\n",
    "y_test = test['MedianPrice']\n",
    "\n",
    "X_train4 = sm.add_constant(X_train4)\n",
    "\n",
    "linear_model = sm.OLS(y_train, X_train4).fit()\n",
    "print(linear_model.summary())"
   ]
  },
  {
   "cell_type": "markdown",
   "id": "3cf37dbe",
   "metadata": {},
   "source": [
    "We also used r-format to build linear model using the columns we found useful on previous steps to calculate the 'OSR2' value."
   ]
  },
  {
   "cell_type": "code",
   "execution_count": 310,
   "id": "f6b6bce6",
   "metadata": {},
   "outputs": [
    {
     "name": "stdout",
     "output_type": "stream",
     "text": [
      "                            OLS Regression Results                            \n",
      "==============================================================================\n",
      "Dep. Variable:            MedianPrice   R-squared:                       0.892\n",
      "Model:                            OLS   Adj. R-squared:                  0.891\n",
      "Method:                 Least Squares   F-statistic:                     2064.\n",
      "Date:                Sat, 18 Dec 2021   Prob (F-statistic):               0.00\n",
      "Time:                        09:59:27   Log-Likelihood:                -31727.\n",
      "No. Observations:                2520   AIC:                         6.348e+04\n",
      "Df Residuals:                    2509   BIC:                         6.354e+04\n",
      "Df Model:                          10                                         \n",
      "Covariance Type:            nonrobust                                         \n",
      "==============================================================================================\n",
      "                                 coef    std err          t      P>|t|      [0.025      0.975]\n",
      "----------------------------------------------------------------------------------------------\n",
      "Intercept                  -5.678e+05   3.77e+04    -15.073      0.000   -6.42e+05   -4.94e+05\n",
      "PercentageOfBachelorDegree  2.608e+05   2.86e+04      9.112      0.000    2.05e+05    3.17e+05\n",
      "Per_capita_income             10.9838      0.164     67.081      0.000      10.663      11.305\n",
      "Precipitation              -1942.1984    113.114    -17.170      0.000   -2164.006   -1720.391\n",
      "NumAirports                -1268.4764    266.823     -4.754      0.000   -1791.692    -745.260\n",
      "GradRates                   4.789e+05   3.54e+04     13.532      0.000    4.09e+05    5.48e+05\n",
      "CollegeEnrollmentRate       -318.9584    248.648     -1.283      0.200    -806.534     168.617\n",
      "LocalTaxRate                1.394e+06   2.29e+05      6.074      0.000    9.44e+05    1.84e+06\n",
      "ViolentCrimeRate            1.377e+04   2291.890      6.008      0.000    9275.948    1.83e+04\n",
      "PropertyCrimeRate          -3.683e+04   2325.944    -15.836      0.000   -4.14e+04   -3.23e+04\n",
      "NationalRiskIndex            805.6970    135.307      5.955      0.000     540.372    1071.022\n",
      "==============================================================================\n",
      "Omnibus:                       86.876   Durbin-Watson:                   0.226\n",
      "Prob(Omnibus):                  0.000   Jarque-Bera (JB):              135.129\n",
      "Skew:                           0.318   Prob(JB):                     4.54e-30\n",
      "Kurtosis:                       3.940   Cond. No.                     7.87e+06\n",
      "==============================================================================\n",
      "\n",
      "Notes:\n",
      "[1] Standard Errors assume that the covariance matrix of the errors is correctly specified.\n",
      "[2] The condition number is large, 7.87e+06. This might indicate that there are\n",
      "strong multicollinearity or other numerical problems.\n"
     ]
    }
   ],
   "source": [
    "import statsmodels.formula.api as smf\n",
    "\n",
    "ols = smf.ols(formula ='MedianPrice ~ PercentageOfBachelorDegree + Per_capita_income + Precipitation + NumAirports \\\n",
    "    + GradRates + CollegeEnrollmentRate + LocalTaxRate + ViolentCrimeRate + PropertyCrimeRate + NationalRiskIndex', data = train)\n",
    "\n",
    "linear_r = ols.fit()\n",
    "print(linear_r.summary())"
   ]
  },
  {
   "cell_type": "code",
   "execution_count": 311,
   "id": "d907fa7d",
   "metadata": {},
   "outputs": [],
   "source": [
    "def OSR2(model, df_train, df_test, dependent_var):   \n",
    "    y_test = df_test[dependent_var]\n",
    "    y_pred = model.predict(df_test)\n",
    "    SSE = np.sum((y_test - y_pred)**2)\n",
    "    SST = np.sum((y_test - np.mean(df_train[dependent_var]))**2)    \n",
    "    return 1 - SSE/SST"
   ]
  },
  {
   "cell_type": "code",
   "execution_count": 318,
   "id": "acf1885b",
   "metadata": {},
   "outputs": [],
   "source": [
    "train_linear = train[['MedianPrice', 'PercentageOfBachelorDegree', 'Per_capita_income', 'Precipitation', 'NumAirports', 'GradRates', 'CollegeEnrollmentRate'\n",
    "        , 'LocalTaxRate', 'ViolentCrimeRate', 'PropertyCrimeRate', 'NationalRiskIndex']]\n",
    "\n",
    "test_linear = test[['MedianPrice', 'PercentageOfBachelorDegree', 'Per_capita_income', 'Precipitation', 'NumAirports', 'GradRates', 'CollegeEnrollmentRate'\n",
    "        , 'LocalTaxRate', 'ViolentCrimeRate', 'PropertyCrimeRate', 'NationalRiskIndex']]"
   ]
  },
  {
   "cell_type": "code",
   "execution_count": 319,
   "id": "8a0698bc",
   "metadata": {},
   "outputs": [
    {
     "data": {
      "text/plain": [
       "0.9173434590341806"
      ]
     },
     "execution_count": 319,
     "metadata": {},
     "output_type": "execute_result"
    }
   ],
   "source": [
    "OSR2(linear_r, train_linear, test_linear, 'MedianPrice')"
   ]
  },
  {
   "cell_type": "code",
   "execution_count": 320,
   "id": "285f1906",
   "metadata": {},
   "outputs": [
    {
     "name": "stdout",
     "output_type": "stream",
     "text": [
      "2010 0.9038855786392488\n",
      "2011 0.8936681484233681\n",
      "2012 0.8509640650309455\n",
      "2013 0.876121581413445\n",
      "2014 0.9020447586073508\n",
      "2015 0.9050472452742369\n",
      "2016 0.916913926082195\n",
      "2017 0.9052832960929043\n",
      "2018 0.9270906105068099\n"
     ]
    }
   ],
   "source": [
    "for year in range(2010, 2019): \n",
    "    test_set_year = dataframe[dataframe['Year'] == year] \n",
    "    OSR_year = OSR2(linear_r, train, test_set_year, 'MedianPrice') \n",
    "    print(year, OSR_year)"
   ]
  },
  {
   "cell_type": "code",
   "execution_count": 321,
   "id": "9200cb39",
   "metadata": {},
   "outputs": [],
   "source": [
    "def MAE(y_test, y_pred):\n",
    "    return (np.mean(abs(y_test - y_pred)))"
   ]
  },
  {
   "cell_type": "code",
   "execution_count": 322,
   "id": "6e2b1b2d",
   "metadata": {},
   "outputs": [],
   "source": [
    "def RMSE(y_test, y_pred):\n",
    "    return np.sqrt(np.mean((y_test - y_pred)**2))"
   ]
  },
  {
   "cell_type": "code",
   "execution_count": 324,
   "id": "2a41fd48",
   "metadata": {},
   "outputs": [],
   "source": [
    "y_pred_test = pd.Series(linear_r.predict(X_test4)).reset_index(drop=True)"
   ]
  },
  {
   "cell_type": "code",
   "execution_count": 326,
   "id": "2d0e3674",
   "metadata": {},
   "outputs": [
    {
     "name": "stdout",
     "output_type": "stream",
     "text": [
      "Test MSE for naive linear regression: 9616590010.07078\n",
      "Test RMSE for naive linear regression: 98064.21370750284\n",
      "Test MAE for naive linear regression: 71176.41061710197\n",
      "Test OSR2 for naive linear regression: 0.9173434590341806\n"
     ]
    }
   ],
   "source": [
    "from sklearn.metrics import mean_squared_error\n",
    "\n",
    "y_pred_test = pd.Series(linear_r.predict(X_test4)).reset_index(drop=True)\n",
    "linear_regression_mse = mean_squared_error(y_pred_test, y_test)\n",
    "\n",
    "print(\"Test MSE for naive linear regression:\", linear_regression_mse)\n",
    "print(\"Test RMSE for naive linear regression:\", RMSE(y_pred_test, y_test))\n",
    "print(\"Test MAE for naive linear regression:\", MAE(y_pred_test, y_test))\n",
    "print(\"Test OSR2 for naive linear regression:\", OSR2(linear_r, train, test, 'MedianPrice'))"
   ]
  },
  {
   "cell_type": "markdown",
   "id": "962419dc",
   "metadata": {},
   "source": [
    "## 2. Ridge Regression"
   ]
  },
  {
   "cell_type": "code",
   "execution_count": 330,
   "id": "291c07d7",
   "metadata": {},
   "outputs": [
    {
     "name": "stdout",
     "output_type": "stream",
     "text": [
      "<class 'pandas.core.frame.DataFrame'>\n",
      "RangeIndex: 2520 entries, 0 to 2519\n",
      "Data columns (total 25 columns):\n",
      " #   Column                      Non-Null Count  Dtype  \n",
      "---  ------                      --------------  -----  \n",
      " 0   County                      2520 non-null   object \n",
      " 1   MonthNumeric                2520 non-null   int64  \n",
      " 2   Year                        2520 non-null   int64  \n",
      " 3   MedianPrice                 2520 non-null   float64\n",
      " 4   PercentageOfBachelorDegree  2520 non-null   float64\n",
      " 5   Per_capita_income           2520 non-null   int64  \n",
      " 6   total_law_enforcement       2520 non-null   float64\n",
      " 7   Precipitation               2520 non-null   float64\n",
      " 8   Population                  2520 non-null   float64\n",
      " 9   NumAirports                 2520 non-null   float64\n",
      " 10  GradRates                   2520 non-null   float64\n",
      " 11  CollegeEnrollmentRate       2520 non-null   float64\n",
      " 12  AvgHouseholdSize            2520 non-null   float64\n",
      " 13  Avg18Younger                2520 non-null   float64\n",
      " 14  Avg18Older                  2520 non-null   float64\n",
      " 15  LocalTaxRate                2520 non-null   float64\n",
      " 16  ViolentCrimeRate            2520 non-null   float64\n",
      " 17  PropertyCrimeRate           2520 non-null   float64\n",
      " 18  NationalRiskIndex           2520 non-null   float64\n",
      " 19  Urban                       2520 non-null   int64  \n",
      " 20  Suburban                    2520 non-null   int64  \n",
      " 21  Rural                       2520 non-null   int64  \n",
      " 22  HasWalMart                  2520 non-null   int64  \n",
      " 23  HasCostco                   2520 non-null   int64  \n",
      " 24  MajorIndustry               2520 non-null   object \n",
      "dtypes: float64(15), int64(8), object(2)\n",
      "memory usage: 492.3+ KB\n"
     ]
    }
   ],
   "source": [
    "train.info()"
   ]
  },
  {
   "cell_type": "code",
   "execution_count": 331,
   "id": "9b615c3c",
   "metadata": {},
   "outputs": [],
   "source": [
    "cols = ['PercentageOfBachelorDegree', 'Per_capita_income', 'total_law_enforcement'\n",
    "        , 'Precipitation', 'Population', 'NumAirports', 'GradRates', 'CollegeEnrollmentRate'\n",
    "        , 'AvgHouseholdSize', 'Avg18Younger', 'Avg18Older', 'LocalTaxRate'\n",
    "        , 'ViolentCrimeRate', 'PropertyCrimeRate', 'NationalRiskIndex']\n",
    "\n",
    "X_train = train[cols]\n",
    "X_test = test[cols]"
   ]
  },
  {
   "cell_type": "code",
   "execution_count": 332,
   "id": "1e9f168e",
   "metadata": {},
   "outputs": [
    {
     "name": "stdout",
     "output_type": "stream",
     "text": [
      "(2520, 15) (1260, 15)\n"
     ]
    }
   ],
   "source": [
    "print(X_train.shape, X_test.shape)"
   ]
  },
  {
   "cell_type": "code",
   "execution_count": 333,
   "id": "65531c24",
   "metadata": {},
   "outputs": [],
   "source": [
    "def one_standard_error_rule(model, results, param_grid, n_splits, neg_mean_squared_error=True):\n",
    "    \n",
    "    assert neg_mean_squared_error == True # function is defined specifically for neg_mean_squared_error\n",
    "    \n",
    "    range_x = param_grid # results['param_'+list(param_grid.keys())[0]].data\n",
    "    std_vs_x  = pd.Series(results['std_test_score'], index = range_x)\n",
    "    sem_vs_x  = std_vs_x/np.sqrt(n_splits)\n",
    "    \n",
    "    mean_vs_x = pd.Series(results['mean_test_score'], index = range_x)        \n",
    "    mean_vs_x = mean_vs_x*(-1)\n",
    "    \n",
    "    x_min = mean_vs_x.idxmin()\n",
    "    sem = sem_vs_x[x_min]\n",
    "    \n",
    "    if (model=='pcr'):\n",
    "        x_1se = mean_vs_x[mean_vs_x <= min(mean_vs_x) + sem].index.min()\n",
    "    elif (model=='ridge') | (model=='lasso'):\n",
    "        x_1se = mean_vs_x[mean_vs_x <= min(mean_vs_x) + sem].index.max()\n",
    "        \n",
    "    #x_1se_idx = int(np.argwhere(range_x == x_1se)[0])\n",
    "    \n",
    "    return x_min, x_1se"
   ]
  },
  {
   "cell_type": "code",
   "execution_count": 360,
   "id": "93e3e309",
   "metadata": {},
   "outputs": [
    {
     "data": {
      "text/plain": [
       "Ridge(alpha=100000, random_state=88)"
      ]
     },
     "execution_count": 360,
     "metadata": {},
     "output_type": "execute_result"
    }
   ],
   "source": [
    "from sklearn.linear_model import Ridge\n",
    "\n",
    "alpha_max = 10**5\n",
    "rr = Ridge(alpha=alpha_max, random_state=88)\n",
    "rr.fit(X_train, y_train)"
   ]
  },
  {
   "cell_type": "code",
   "execution_count": 362,
   "id": "0422f494",
   "metadata": {
    "scrolled": true
   },
   "outputs": [
    {
     "name": "stdout",
     "output_type": "stream",
     "text": [
      "2109.295658640381\n"
     ]
    }
   ],
   "source": [
    "print(max(abs(rr.coef_)))"
   ]
  },
  {
   "cell_type": "code",
   "execution_count": 336,
   "id": "fa74fd02",
   "metadata": {},
   "outputs": [],
   "source": [
    "import warnings\n",
    "warnings.filterwarnings('ignore')"
   ]
  },
  {
   "cell_type": "code",
   "execution_count": 337,
   "id": "d8db672c",
   "metadata": {},
   "outputs": [
    {
     "data": {
      "text/plain": [
       "GridSearchCV(cv=10, estimator=Ridge(random_state=88),\n",
       "             param_grid={'alpha': array([1.00000000e-01, 1.32571137e-01, 1.75751062e-01, 2.32995181e-01,\n",
       "       3.08884360e-01, 4.09491506e-01, 5.42867544e-01, 7.19685673e-01,\n",
       "       9.54095476e-01, 1.26485522e+00, 1.67683294e+00, 2.22299648e+00,\n",
       "       2.94705170e+00, 3.90693994e+00, 5.17947468e+00, 6.86648845e+00,\n",
       "       9.10298178e+00, 1.20679264e+01, 1...\n",
       "       2.68269580e+02, 3.55648031e+02, 4.71486636e+02, 6.25055193e+02,\n",
       "       8.28642773e+02, 1.09854114e+03, 1.45634848e+03, 1.93069773e+03,\n",
       "       2.55954792e+03, 3.39322177e+03, 4.49843267e+03, 5.96362332e+03,\n",
       "       7.90604321e+03, 1.04811313e+04, 1.38949549e+04, 1.84206997e+04,\n",
       "       2.44205309e+04, 3.23745754e+04, 4.29193426e+04, 5.68986603e+04,\n",
       "       7.54312006e+04, 1.00000000e+05])},\n",
       "             scoring='neg_mean_squared_error')"
      ]
     },
     "execution_count": 337,
     "metadata": {},
     "output_type": "execute_result"
    }
   ],
   "source": [
    "alpha_grid = {'alpha': np.logspace(-1, 5, num=50, base=10)}\n",
    "\n",
    "rr = Ridge(random_state=88)\n",
    "rr_cv = GridSearchCV(rr, alpha_grid, scoring='neg_mean_squared_error', cv=10)\n",
    "rr_cv.fit(X_train, y_train)"
   ]
  },
  {
   "cell_type": "code",
   "execution_count": 365,
   "id": "66d05f56",
   "metadata": {},
   "outputs": [],
   "source": [
    "range_alpha = rr_cv.cv_results_['param_alpha'].data\n",
    "MSE_scores = rr_cv.cv_results_['mean_test_score']*(-1)\n",
    "x_min, x_1se = one_standard_error_rule(model='ridge',\n",
    "                                       results=rr_cv.cv_results_,\n",
    "                                       param_grid=range_alpha,\n",
    "                                       n_splits=10,\n",
    "                                       neg_mean_squared_error=True)"
   ]
  },
  {
   "cell_type": "code",
   "execution_count": 339,
   "id": "ff3fe2e4",
   "metadata": {},
   "outputs": [
    {
     "data": {
      "text/plain": [
       "GridSearchCV(cv=10, estimator=Ridge(random_state=88),\n",
       "             param_grid={'alpha': [100000.0]},\n",
       "             scoring='neg_mean_squared_error')"
      ]
     },
     "execution_count": 339,
     "metadata": {},
     "output_type": "execute_result"
    }
   ],
   "source": [
    "rr_cv = GridSearchCV(rr, {'alpha': [x_1se]}, scoring='neg_mean_squared_error', cv=10)\n",
    "rr_cv.fit(X_train, y_train)"
   ]
  },
  {
   "cell_type": "code",
   "execution_count": 340,
   "id": "164a6626",
   "metadata": {},
   "outputs": [],
   "source": [
    "def OSR2(y_train, y_test, y_pred):\n",
    "    \n",
    "    SSE = np.sum((y_test - y_pred)**2)\n",
    "    SST = np.sum((y_test - np.mean(y_train))**2)\n",
    "                 \n",
    "    return (1 - SSE/SST)"
   ]
  },
  {
   "cell_type": "code",
   "execution_count": 341,
   "id": "c26b6185",
   "metadata": {
    "scrolled": true
   },
   "outputs": [],
   "source": [
    "y_pred_test_rr = pd.Series(rr_cv.predict(X_test)).reset_index(drop=True)"
   ]
  },
  {
   "cell_type": "code",
   "execution_count": 342,
   "id": "6d9d7b39",
   "metadata": {},
   "outputs": [
    {
     "name": "stdout",
     "output_type": "stream",
     "text": [
      "Test MSE for rr regression: 9224918624.487478\n",
      "Test RMSE for rr regression: 96046.43993656141\n",
      "Test MAE for rr regression: 69252.78742335133\n",
      "Test OSR2 for rr regression: 0.9207099540073158\n"
     ]
    }
   ],
   "source": [
    "y_pred_test_rr = pd.Series(rr_cv.predict(X_test)).reset_index(drop=True)\n",
    "rr_mse = mean_squared_error(y_pred_test_rr, y_test)\n",
    "\n",
    "print(\"Test MSE for rr regression:\", rr_mse)\n",
    "print(\"Test RMSE for rr regression:\", RMSE(y_pred_test_rr, y_test))\n",
    "print(\"Test MAE for rr regression:\", MAE(y_pred_test_rr, y_test))\n",
    "print(\"Test OSR2 for rr regression:\", OSR2(y_train, y_test, y_pred_test_rr))"
   ]
  },
  {
   "cell_type": "markdown",
   "id": "42229f47",
   "metadata": {},
   "source": [
    "## 3. Lasso Regression"
   ]
  },
  {
   "cell_type": "code",
   "execution_count": 343,
   "id": "ee2945fc",
   "metadata": {},
   "outputs": [
    {
     "name": "stdout",
     "output_type": "stream",
     "text": [
      "(2520, 15) (1260, 15)\n"
     ]
    }
   ],
   "source": [
    "X_train_lasso = X_train\n",
    "X_test_lasso = X_test\n",
    "\n",
    "print(X_train_lasso.shape, X_test_lasso.shape)"
   ]
  },
  {
   "cell_type": "code",
   "execution_count": 372,
   "id": "937f80a1",
   "metadata": {},
   "outputs": [],
   "source": [
    "from sklearn.linear_model import Lasso\n",
    "\n",
    "alphas = np.logspace(-5, 1 , num=50, base=10)\n",
    "coefs = []\n",
    "\n",
    "for a in alphas:\n",
    "    lasso = Lasso(alpha=a, random_state=88)\n",
    "    lasso.fit(X_train_lasso, y_train)\n",
    "    coefs.append(lasso.coef_)"
   ]
  },
  {
   "cell_type": "code",
   "execution_count": 345,
   "id": "0f4fe43a",
   "metadata": {},
   "outputs": [
    {
     "data": {
      "text/plain": [
       "GridSearchCV(cv=10, estimator=Lasso(alpha=10.0, random_state=88),\n",
       "             param_grid={'alpha': array([1.00000000e-08, 1.38949549e-08, 1.93069773e-08, 2.68269580e-08,\n",
       "       3.72759372e-08, 5.17947468e-08, 7.19685673e-08, 1.00000000e-07,\n",
       "       1.38949549e-07, 1.93069773e-07, 2.68269580e-07, 3.72759372e-07,\n",
       "       5.17947468e-07, 7.19685673e-07, 1.00000000e-06, 1.38949549e-06,\n",
       "       1.93069773e-06, 2.682...\n",
       "       1.00000000e-04, 1.38949549e-04, 1.93069773e-04, 2.68269580e-04,\n",
       "       3.72759372e-04, 5.17947468e-04, 7.19685673e-04, 1.00000000e-03,\n",
       "       1.38949549e-03, 1.93069773e-03, 2.68269580e-03, 3.72759372e-03,\n",
       "       5.17947468e-03, 7.19685673e-03, 1.00000000e-02, 1.38949549e-02,\n",
       "       1.93069773e-02, 2.68269580e-02, 3.72759372e-02, 5.17947468e-02,\n",
       "       7.19685673e-02, 1.00000000e-01])},\n",
       "             scoring='neg_mean_squared_error')"
      ]
     },
     "execution_count": 345,
     "metadata": {},
     "output_type": "execute_result"
    }
   ],
   "source": [
    "alpha_grid = {'alpha': np.logspace(-8, -1, num=50, base=10)}\n",
    "\n",
    "lasso_cv = GridSearchCV(lasso, alpha_grid, scoring='neg_mean_squared_error', cv=10)\n",
    "lasso_cv.fit(X_train_lasso, y_train)"
   ]
  },
  {
   "cell_type": "code",
   "execution_count": 346,
   "id": "3e36ce19",
   "metadata": {},
   "outputs": [],
   "source": [
    "range_alpha = lasso_cv.cv_results_['param_alpha'].data\n",
    "MSE_scores = lasso_cv.cv_results_['mean_test_score']*(-1)\n",
    "x_min, x_1se = one_standard_error_rule(model='lasso',\n",
    "                                       results=lasso_cv.cv_results_,\n",
    "                                       param_grid=range_alpha,\n",
    "                                       n_splits=10,\n",
    "                                       neg_mean_squared_error=True)"
   ]
  },
  {
   "cell_type": "code",
   "execution_count": 347,
   "id": "5a4ce6e6",
   "metadata": {},
   "outputs": [
    {
     "name": "stdout",
     "output_type": "stream",
     "text": [
      "Alpha one standard error rule: 0.1\n"
     ]
    }
   ],
   "source": [
    "print('Alpha one standard error rule:', x_1se)"
   ]
  },
  {
   "cell_type": "code",
   "execution_count": 348,
   "id": "7a9c57e9",
   "metadata": {},
   "outputs": [
    {
     "data": {
      "text/plain": [
       "GridSearchCV(cv=10, estimator=Lasso(alpha=10.0, random_state=88),\n",
       "             param_grid={'alpha': [0.1]}, scoring='neg_mean_squared_error')"
      ]
     },
     "execution_count": 348,
     "metadata": {},
     "output_type": "execute_result"
    }
   ],
   "source": [
    "lasso_cv = GridSearchCV(lasso, {'alpha': [x_1se]}, scoring='neg_mean_squared_error', cv=10)\n",
    "lasso_cv.fit(X_train_lasso, y_train)"
   ]
  },
  {
   "cell_type": "code",
   "execution_count": 349,
   "id": "0ee2a0a1",
   "metadata": {},
   "outputs": [
    {
     "data": {
      "text/plain": [
       "{'alpha': 0,\n",
       " 'copy_X': True,\n",
       " 'fit_intercept': True,\n",
       " 'max_iter': 1000,\n",
       " 'normalize': False,\n",
       " 'positive': False,\n",
       " 'precompute': False,\n",
       " 'random_state': 88,\n",
       " 'selection': 'cyclic',\n",
       " 'tol': 0.0001,\n",
       " 'warm_start': False}"
      ]
     },
     "execution_count": 349,
     "metadata": {},
     "output_type": "execute_result"
    }
   ],
   "source": [
    "lasso.set_params(alpha=0)\n",
    "lasso.fit(X_train_lasso, y_train)\n",
    "lasso.get_params()"
   ]
  },
  {
   "cell_type": "code",
   "execution_count": 350,
   "id": "a11ba033",
   "metadata": {
    "scrolled": true
   },
   "outputs": [
    {
     "name": "stdout",
     "output_type": "stream",
     "text": [
      "Test MSE for lasso regression: 5978409072.878549\n",
      "Test RMSE for lasso regression: 77320.17248350233\n",
      "Test MAE for lasso regression: 55226.649814633514\n",
      "Test OSR2 for lasso regression: 0.9486143618553646\n"
     ]
    }
   ],
   "source": [
    "y_pred_test_lasso = pd.Series(lasso_cv.predict(X_test)).reset_index(drop=True)\n",
    "lasso_mse = mean_squared_error(y_pred_test_lasso, y_test)\n",
    "\n",
    "print(\"Test MSE for lasso regression:\", lasso_mse)\n",
    "print(\"Test RMSE for lasso regression:\", RMSE(y_pred_test_lasso, y_test))\n",
    "print(\"Test MAE for lasso regression:\", MAE(y_pred_test_lasso, y_test))\n",
    "print(\"Test OSR2 for lasso regression:\", OSR2(y_train, y_test, y_pred_test_lasso))"
   ]
  },
  {
   "cell_type": "code",
   "execution_count": null,
   "id": "5516f743",
   "metadata": {},
   "outputs": [],
   "source": []
  },
  {
   "cell_type": "code",
   "execution_count": null,
   "id": "d95071fd",
   "metadata": {},
   "outputs": [],
   "source": []
  },
  {
   "cell_type": "code",
   "execution_count": null,
   "id": "490418bd",
   "metadata": {},
   "outputs": [],
   "source": []
  },
  {
   "cell_type": "code",
   "execution_count": null,
   "id": "8e81b313",
   "metadata": {},
   "outputs": [],
   "source": []
  },
  {
   "cell_type": "code",
   "execution_count": null,
   "id": "d46c6df3",
   "metadata": {},
   "outputs": [],
   "source": []
  },
  {
   "cell_type": "code",
   "execution_count": null,
   "id": "8c45a6e2",
   "metadata": {},
   "outputs": [],
   "source": []
  },
  {
   "cell_type": "code",
   "execution_count": null,
   "id": "3aa719c0",
   "metadata": {},
   "outputs": [],
   "source": []
  },
  {
   "cell_type": "code",
   "execution_count": null,
   "id": "ca039bfc",
   "metadata": {},
   "outputs": [],
   "source": []
  },
  {
   "cell_type": "code",
   "execution_count": null,
   "id": "3febb118",
   "metadata": {},
   "outputs": [],
   "source": []
  },
  {
   "cell_type": "code",
   "execution_count": null,
   "id": "a2201400",
   "metadata": {},
   "outputs": [],
   "source": []
  },
  {
   "cell_type": "code",
   "execution_count": null,
   "id": "26e075b1",
   "metadata": {},
   "outputs": [],
   "source": []
  },
  {
   "cell_type": "code",
   "execution_count": null,
   "id": "17f8a897",
   "metadata": {},
   "outputs": [],
   "source": []
  },
  {
   "cell_type": "code",
   "execution_count": null,
   "id": "0433cb2d",
   "metadata": {},
   "outputs": [],
   "source": []
  },
  {
   "cell_type": "code",
   "execution_count": null,
   "id": "ebbd4159",
   "metadata": {},
   "outputs": [],
   "source": []
  },
  {
   "cell_type": "code",
   "execution_count": null,
   "id": "101f28e4",
   "metadata": {},
   "outputs": [],
   "source": []
  },
  {
   "cell_type": "markdown",
   "id": "610e461d",
   "metadata": {},
   "source": [
    "## Bootstrapping"
   ]
  },
  {
   "cell_type": "code",
   "execution_count": 373,
   "id": "3ade86c4",
   "metadata": {},
   "outputs": [
    {
     "name": "stdout",
     "output_type": "stream",
     "text": [
      "Requirement already satisfied: bootstrapped in /Users/yunheejung/opt/anaconda3/lib/python3.8/site-packages (0.0.2)\n",
      "Requirement already satisfied: pandas>=0.18.1 in /Users/yunheejung/opt/anaconda3/lib/python3.8/site-packages (from bootstrapped) (1.2.4)\n",
      "Requirement already satisfied: matplotlib>=1.5.3 in /Users/yunheejung/opt/anaconda3/lib/python3.8/site-packages (from bootstrapped) (3.3.4)\n",
      "Requirement already satisfied: numpy>=1.11.1 in /Users/yunheejung/opt/anaconda3/lib/python3.8/site-packages (from bootstrapped) (1.20.1)\n",
      "Requirement already satisfied: cycler>=0.10 in /Users/yunheejung/opt/anaconda3/lib/python3.8/site-packages (from matplotlib>=1.5.3->bootstrapped) (0.10.0)\n",
      "Requirement already satisfied: pyparsing!=2.0.4,!=2.1.2,!=2.1.6,>=2.0.3 in /Users/yunheejung/opt/anaconda3/lib/python3.8/site-packages (from matplotlib>=1.5.3->bootstrapped) (2.4.7)\n",
      "Requirement already satisfied: kiwisolver>=1.0.1 in /Users/yunheejung/opt/anaconda3/lib/python3.8/site-packages (from matplotlib>=1.5.3->bootstrapped) (1.3.1)\n",
      "Requirement already satisfied: python-dateutil>=2.1 in /Users/yunheejung/opt/anaconda3/lib/python3.8/site-packages (from matplotlib>=1.5.3->bootstrapped) (2.8.1)\n",
      "Requirement already satisfied: pillow>=6.2.0 in /Users/yunheejung/opt/anaconda3/lib/python3.8/site-packages (from matplotlib>=1.5.3->bootstrapped) (8.2.0)\n",
      "Requirement already satisfied: six in /Users/yunheejung/opt/anaconda3/lib/python3.8/site-packages (from cycler>=0.10->matplotlib>=1.5.3->bootstrapped) (1.15.0)\n",
      "Requirement already satisfied: pytz>=2017.3 in /Users/yunheejung/opt/anaconda3/lib/python3.8/site-packages (from pandas>=0.18.1->bootstrapped) (2021.1)\n",
      "Note: you may need to restart the kernel to use updated packages.\n"
     ]
    }
   ],
   "source": [
    "pip install bootstrapped"
   ]
  },
  {
   "cell_type": "code",
   "execution_count": 374,
   "id": "6df78d0a",
   "metadata": {},
   "outputs": [],
   "source": [
    "import bootstrapped.bootstrap as bs\n",
    "import bootstrapped.stats_functions as bs_stats"
   ]
  },
  {
   "cell_type": "code",
   "execution_count": 375,
   "id": "a7d59b78",
   "metadata": {},
   "outputs": [],
   "source": [
    "def bootstrap(data, metrics,sample =500, random_state=123):\n",
    "    output_array=np.zeros(sample)\n",
    "    output_array[:]=np.nan\n",
    "    for i in range(sample):\n",
    "        bs_data = np.random.choice(data, len(data), replace=True)\n",
    "        output_array[i] = metrics(bs_data)\n",
    "    return output_array"
   ]
  },
  {
   "cell_type": "code",
   "execution_count": 376,
   "id": "7e02611e",
   "metadata": {},
   "outputs": [],
   "source": [
    "import time\n",
    "\n",
    "def bootstrap_validation(test_data, test_label, train_label, model, metrics_list, sample=500, random_state=66):\n",
    "    tic = time.time()\n",
    "    n_sample = sample\n",
    "    n_metrics = len(metrics_list)\n",
    "    output_array=np.zeros([n_sample, n_metrics])\n",
    "    output_array[:]=np.nan\n",
    "    print(output_array.shape)\n",
    "    for bs_iter in range(n_sample):\n",
    "        bs_index = np.random.choice(test_data.index, len(test_data.index), replace=True)\n",
    "        bs_data = test_data.loc[bs_index]\n",
    "        bs_label = test_label.loc[bs_index]\n",
    "        bs_predicted = model.predict(bs_data)\n",
    "        for metrics_iter in range(n_metrics):\n",
    "            metrics = metrics_list[metrics_iter]\n",
    "            output_array[bs_iter, metrics_iter]=metrics(bs_predicted,bs_label,train_label)\n",
    "        #if bs_iter % 100 == 0:\n",
    "            #print(bs_iter, time.time()-tic)\n",
    "    output_df = pd.DataFrame(output_array)\n",
    "    return output_df"
   ]
  },
  {
   "cell_type": "code",
   "execution_count": 395,
   "id": "03f4ca1f",
   "metadata": {},
   "outputs": [],
   "source": [
    "def OSR2(predictions, y_test, y_train):\n",
    "    SSE = np.sum((y_test - predictions)**2)\n",
    "    SST = np.sum((y_test - np.mean(y_train))**2)             \n",
    "    return (1 - SSE/SST)"
   ]
  },
  {
   "cell_type": "code",
   "execution_count": 400,
   "id": "fcd3a8ab",
   "metadata": {},
   "outputs": [
    {
     "name": "stdout",
     "output_type": "stream",
     "text": [
      "(5000, 1)\n"
     ]
    }
   ],
   "source": [
    "bs_output_lasso = bootstrap_validation(X_test, y_test, y_train, lasso_cv,\n",
    "                                 metrics_list = [OSR2],\n",
    "                                 sample = 5000)"
   ]
  },
  {
   "cell_type": "code",
   "execution_count": 401,
   "id": "2ef3e950",
   "metadata": {},
   "outputs": [
    {
     "name": "stdout",
     "output_type": "stream",
     "text": [
      "95% confidence interval for LASSO Model: [0.94283213 0.00578223]\n"
     ]
    }
   ],
   "source": [
    "test_lasso = OSR2(y_pred_test_lasso, y_test, y_train)\n",
    "\n",
    "CI_0 = np.quantile(bs_output_lasso.iloc[:,0] - test_lasso,np.array([0.025,0.975]))\n",
    "CI_0[0] = test_gbc - CI_0[1]\n",
    "CI_0[1] = test_gbc - CI_0[0]\n",
    "print(\"95% confidence interval for LASSO Model:\" , CI_0)"
   ]
  },
  {
   "cell_type": "code",
   "execution_count": null,
   "id": "5fad8d5e",
   "metadata": {},
   "outputs": [],
   "source": []
  },
  {
   "cell_type": "code",
   "execution_count": null,
   "id": "82a3be74",
   "metadata": {},
   "outputs": [],
   "source": []
  },
  {
   "cell_type": "code",
   "execution_count": null,
   "id": "da6882c6",
   "metadata": {},
   "outputs": [],
   "source": []
  },
  {
   "cell_type": "code",
   "execution_count": null,
   "id": "2071fe34",
   "metadata": {},
   "outputs": [],
   "source": []
  },
  {
   "cell_type": "code",
   "execution_count": null,
   "id": "2035b390",
   "metadata": {},
   "outputs": [],
   "source": []
  },
  {
   "cell_type": "code",
   "execution_count": null,
   "id": "e83e0757",
   "metadata": {},
   "outputs": [],
   "source": []
  },
  {
   "cell_type": "code",
   "execution_count": null,
   "id": "9ab2b4bb",
   "metadata": {},
   "outputs": [],
   "source": []
  },
  {
   "cell_type": "code",
   "execution_count": null,
   "id": "61602c1a",
   "metadata": {},
   "outputs": [],
   "source": []
  },
  {
   "cell_type": "code",
   "execution_count": null,
   "id": "bff46bc6",
   "metadata": {},
   "outputs": [],
   "source": []
  },
  {
   "cell_type": "code",
   "execution_count": null,
   "id": "82a11355",
   "metadata": {},
   "outputs": [],
   "source": []
  },
  {
   "cell_type": "code",
   "execution_count": null,
   "id": "f17d82d0",
   "metadata": {},
   "outputs": [],
   "source": []
  },
  {
   "cell_type": "code",
   "execution_count": null,
   "id": "2b38a0ff",
   "metadata": {},
   "outputs": [],
   "source": []
  },
  {
   "cell_type": "markdown",
   "id": "a43c6965",
   "metadata": {},
   "source": [
    "### Performance"
   ]
  },
  {
   "cell_type": "code",
   "execution_count": 354,
   "id": "65c373f3",
   "metadata": {},
   "outputs": [
    {
     "data": {
      "text/html": [
       "<div>\n",
       "<style scoped>\n",
       "    .dataframe tbody tr th:only-of-type {\n",
       "        vertical-align: middle;\n",
       "    }\n",
       "\n",
       "    .dataframe tbody tr th {\n",
       "        vertical-align: top;\n",
       "    }\n",
       "\n",
       "    .dataframe thead th {\n",
       "        text-align: right;\n",
       "    }\n",
       "</style>\n",
       "<table border=\"1\" class=\"dataframe\">\n",
       "  <thead>\n",
       "    <tr style=\"text-align: right;\">\n",
       "      <th></th>\n",
       "      <th>Basic Linear Regression</th>\n",
       "      <th>Ridge Regression</th>\n",
       "      <th>Lasso</th>\n",
       "    </tr>\n",
       "  </thead>\n",
       "  <tbody>\n",
       "    <tr>\n",
       "      <th>OSR2</th>\n",
       "      <td>0.917343</td>\n",
       "      <td>0.920710</td>\n",
       "      <td>0.948614</td>\n",
       "    </tr>\n",
       "    <tr>\n",
       "      <th>RMSE</th>\n",
       "      <td>98064.213708</td>\n",
       "      <td>96046.439937</td>\n",
       "      <td>77320.172484</td>\n",
       "    </tr>\n",
       "    <tr>\n",
       "      <th>MAE</th>\n",
       "      <td>71176.410617</td>\n",
       "      <td>69252.787423</td>\n",
       "      <td>55226.649815</td>\n",
       "    </tr>\n",
       "  </tbody>\n",
       "</table>\n",
       "</div>"
      ],
      "text/plain": [
       "      Basic Linear Regression  Ridge Regression         Lasso\n",
       "OSR2                 0.917343          0.920710      0.948614\n",
       "RMSE             98064.213708      96046.439937  77320.172484\n",
       "MAE              71176.410617      69252.787423  55226.649815"
      ]
     },
     "execution_count": 354,
     "metadata": {},
     "output_type": "execute_result"
    }
   ],
   "source": [
    "performance = {'Basic Linear Regression':[0.9173434590341806, 98064.21370750284, 71176.41061710197],\n",
    "               'Ridge Regression' :[0.9207099540073158, 96046.43993656141, 69252.78742335133],\n",
    "              'Lasso':[0.9486143618553646, 77320.17248350233, 55226.649814633514]}\n",
    "\n",
    "performance_tbl = pd.DataFrame(performance, columns=['Basic Linear Regression','Ridge Regression','Lasso'])\n",
    "\n",
    "performance_tbl.index = ['OSR2', 'RMSE', 'MAE']\n",
    "performance_tbl"
   ]
  },
  {
   "cell_type": "code",
   "execution_count": 355,
   "id": "24711120",
   "metadata": {},
   "outputs": [],
   "source": [
    "performance_tbl.to_csv('performance1.csv')"
   ]
  }
 ],
 "metadata": {
  "kernelspec": {
   "display_name": "Python 3",
   "language": "python",
   "name": "python3"
  },
  "language_info": {
   "codemirror_mode": {
    "name": "ipython",
    "version": 3
   },
   "file_extension": ".py",
   "mimetype": "text/x-python",
   "name": "python",
   "nbconvert_exporter": "python",
   "pygments_lexer": "ipython3",
   "version": "3.7.11"
  }
 },
 "nbformat": 4,
 "nbformat_minor": 5
}

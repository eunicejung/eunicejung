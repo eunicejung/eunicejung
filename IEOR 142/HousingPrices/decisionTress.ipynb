{
 "cells": [
  {
   "cell_type": "code",
   "execution_count": 29,
   "id": "908b411e",
   "metadata": {
    "id": "a6dc9cdf"
   },
   "outputs": [],
   "source": [
    "import numpy as np\n",
    "import pandas as pd"
   ]
  },
  {
   "cell_type": "markdown",
   "id": "a965d34e",
   "metadata": {},
   "source": [
    "## 4. Decision Tree"
   ]
  },
  {
   "cell_type": "code",
   "execution_count": 30,
   "id": "31016e06",
   "metadata": {
    "id": "c9874d4f"
   },
   "outputs": [],
   "source": [
    "#reading in training and testing datasets\n",
    "testing = pd.read_csv('project_test.csv')\n",
    "training = pd.read_csv('project_train.csv')"
   ]
  },
  {
   "cell_type": "code",
   "execution_count": 31,
   "id": "53220e54",
   "metadata": {},
   "outputs": [
    {
     "name": "stdout",
     "output_type": "stream",
     "text": [
      "<class 'pandas.core.frame.DataFrame'>\n",
      "RangeIndex: 1260 entries, 0 to 1259\n",
      "Data columns (total 26 columns):\n",
      " #   Column                      Non-Null Count  Dtype  \n",
      "---  ------                      --------------  -----  \n",
      " 0   Unnamed: 0                  1260 non-null   int64  \n",
      " 1   County                      1260 non-null   object \n",
      " 2   MonthNumeric                1260 non-null   int64  \n",
      " 3   Year                        1260 non-null   int64  \n",
      " 4   MedianPrice                 1260 non-null   float64\n",
      " 5   PercentageOfBachelorDegree  1260 non-null   float64\n",
      " 6   Per_capita_income           1260 non-null   int64  \n",
      " 7   total_law_enforcement       1260 non-null   float64\n",
      " 8   Precipitation               1260 non-null   float64\n",
      " 9   Population                  1260 non-null   float64\n",
      " 10  NumAirports                 1260 non-null   float64\n",
      " 11  GradRates                   1260 non-null   float64\n",
      " 12  CollegeEnrollmentRate       1260 non-null   float64\n",
      " 13  AvgHouseholdSize            1260 non-null   float64\n",
      " 14  Avg18Younger                1260 non-null   float64\n",
      " 15  Avg18Older                  1260 non-null   float64\n",
      " 16  LocalTaxRate                1260 non-null   float64\n",
      " 17  ViolentCrimeRate            1260 non-null   float64\n",
      " 18  PropertyCrimeRate           1260 non-null   float64\n",
      " 19  NationalRiskIndex           1260 non-null   float64\n",
      " 20  Urban                       1260 non-null   int64  \n",
      " 21  Suburban                    1260 non-null   int64  \n",
      " 22  Rural                       1260 non-null   int64  \n",
      " 23  HasWalMart                  1260 non-null   int64  \n",
      " 24  HasCostco                   1260 non-null   int64  \n",
      " 25  MajorIndustry               1260 non-null   object \n",
      "dtypes: float64(15), int64(9), object(2)\n",
      "memory usage: 256.1+ KB\n"
     ]
    }
   ],
   "source": [
    "testing.info()"
   ]
  },
  {
   "cell_type": "code",
   "execution_count": 32,
   "id": "7f49bb30",
   "metadata": {
    "id": "1c223131"
   },
   "outputs": [],
   "source": [
    "#choosing features to include\n",
    "x_train = training[['Per_capita_income','Precipitation','Population', 'Year','MonthNumeric'\n",
    "                    ,\"PercentageOfBachelorDegree\", 'NumAirports', 'GradRates', 'total_law_enforcement'\n",
    "                    ,'AvgHouseholdSize',  'ViolentCrimeRate', 'HasCostco','CollegeEnrollmentRate'\n",
    "                    , 'Avg18Younger', 'Avg18Older','PropertyCrimeRate', 'NationalRiskIndex','LocalTaxRate'\n",
    "                    ,'HasWalMart', 'Urban','Suburban', 'Rural']]\n",
    "\n",
    "y_train = training['MedianPrice']\n",
    "\n",
    "x_test = testing[['Per_capita_income','Precipitation','Population', 'Year','MonthNumeric'\n",
    "                    ,\"PercentageOfBachelorDegree\", 'NumAirports', 'GradRates', 'total_law_enforcement'\n",
    "                    ,'AvgHouseholdSize',  'ViolentCrimeRate', 'HasCostco','CollegeEnrollmentRate'\n",
    "                    , 'Avg18Younger', 'Avg18Older','PropertyCrimeRate', 'NationalRiskIndex','LocalTaxRate'\n",
    "                    ,'HasWalMart', 'Urban','Suburban', 'Rural']]\n",
    "\n",
    "y_test = testing['MedianPrice']\n"
   ]
  },
  {
   "cell_type": "markdown",
   "id": "460b5533",
   "metadata": {},
   "source": [
    "### 4.1 Decision Tree Regressor"
   ]
  },
  {
   "cell_type": "code",
   "execution_count": 33,
   "id": "3359ab33",
   "metadata": {
    "id": "d6dbc059"
   },
   "outputs": [],
   "source": [
    "#Building decision tree regressor without CV\n",
    "\n",
    "from sklearn.tree import DecisionTreeRegressor\n",
    "\n",
    "dtr = DecisionTreeRegressor(min_samples_leaf=2, \n",
    "                             ccp_alpha=0.001,\n",
    "                             random_state = 88)\n",
    "\n",
    "dtr = dtr.fit(x_train, y_train)"
   ]
  },
  {
   "cell_type": "code",
   "execution_count": 34,
   "id": "26819e54",
   "metadata": {
    "id": "36179619",
    "outputId": "8badc9f7-7c75-4760-a85e-44b8c54566fa"
   },
   "outputs": [
    {
     "data": {
      "text/plain": [
       "0.8815539289341042"
      ]
     },
     "execution_count": 34,
     "metadata": {},
     "output_type": "execute_result"
    }
   ],
   "source": [
    "#Calculating OSR^2\n",
    "\n",
    "def OSR2(model, X_test, y_test, y_train):\n",
    "    \n",
    "    y_pred = model.predict(X_test)\n",
    "    SSE = (np.sum((y_test - y_pred)**2))\n",
    "    SST = (np.sum((y_test - np.mean(y_train))**2))\n",
    "                 \n",
    "    return (1 - SSE/SST)\n",
    "\n",
    "y_pred = dtr.predict(x_test)\n",
    "osr2 = OSR2(dtr, x_test, y_test, y_train)\n",
    "osr2"
   ]
  },
  {
   "cell_type": "code",
   "execution_count": 35,
   "id": "309f13da",
   "metadata": {
    "id": "db510e1b",
    "outputId": "472410ef-ecae-4605-9e8b-e1827b2cd151"
   },
   "outputs": [
    {
     "data": {
      "text/plain": [
       "0.996833420369575"
      ]
     },
     "execution_count": 35,
     "metadata": {},
     "output_type": "execute_result"
    }
   ],
   "source": [
    "# r^2 score of model on training set\n",
    "dtr.score(x_train, y_train)"
   ]
  },
  {
   "cell_type": "code",
   "execution_count": 37,
   "id": "ad8c1c91",
   "metadata": {
    "id": "cc689669",
    "outputId": "03d9bff9-7250-4418-c8f1-098407dfe19f"
   },
   "outputs": [
    {
     "name": "stdout",
     "output_type": "stream",
     "text": [
      "Test MSE for decision tree: 13780485977.697178\n"
     ]
    }
   ],
   "source": [
    "# calculating MSE for decision tree\n",
    "from sklearn.metrics import mean_squared_error\n",
    "decision_tree_mse = mean_squared_error(y_pred, y_test)\n",
    "print(\"Test MSE for decision tree:\", decision_tree_mse)"
   ]
  },
  {
   "cell_type": "markdown",
   "id": "7eddf68b",
   "metadata": {},
   "source": [
    "### 4.2 Decision Tree Regressor with cross validation"
   ]
  },
  {
   "cell_type": "code",
   "execution_count": 38,
   "id": "ebc82e3b",
   "metadata": {
    "id": "ce9d57fb",
    "outputId": "a034bece-e5e9-4236-b89e-1bbf2fdb6970"
   },
   "outputs": [
    {
     "data": {
      "text/plain": [
       "GridSearchCV(cv=10, estimator=DecisionTreeRegressor(),\n",
       "             param_grid={'max_depth': [5],\n",
       "                         'min_samples_leaf': array([ 1,  2,  3,  4,  5,  6,  7,  8,  9, 10, 11, 12, 13, 14, 15, 16, 17,\n",
       "       18, 19, 20, 21, 22, 23, 24, 25, 26, 27, 28, 29, 30]),\n",
       "                         'min_samples_split': [2], 'random_state': [88]},\n",
       "             scoring='r2')"
      ]
     },
     "execution_count": 38,
     "metadata": {},
     "output_type": "execute_result"
    }
   ],
   "source": [
    "#building decision tree with cross validation on min_sample_leaf\n",
    "\n",
    "from sklearn.model_selection import GridSearchCV\n",
    "\n",
    "grid_values = {'min_samples_leaf': np.arange(1,31),\n",
    "               'min_samples_split': [2],\n",
    "               'max_depth':[5],\n",
    "               'random_state': [88]}\n",
    "\n",
    "            \n",
    "dtr2 = DecisionTreeRegressor()\n",
    "dtr2_cv= GridSearchCV(dtr2, param_grid = grid_values, scoring = 'r2', cv=10, verbose=0) \n",
    "dtr2_cv.fit(x_train, y_train)"
   ]
  },
  {
   "cell_type": "code",
   "execution_count": 39,
   "id": "7b0228c8",
   "metadata": {
    "id": "7a6d6e61",
    "outputId": "dd446097-bed1-425e-916e-1e0261b0b9c1"
   },
   "outputs": [
    {
     "data": {
      "text/plain": [
       "25"
      ]
     },
     "execution_count": 39,
     "metadata": {},
     "output_type": "execute_result"
    }
   ],
   "source": [
    "# Optimal value for min_samples_leaf\n",
    "dtr2_cv.best_params_['min_samples_leaf']"
   ]
  },
  {
   "cell_type": "code",
   "execution_count": 50,
   "id": "f890dde0",
   "metadata": {
    "id": "6b38fbf6",
    "outputId": "f63c7f27-35fd-4b6e-cde7-26944431412f"
   },
   "outputs": [
    {
     "data": {
      "text/plain": [
       "0.896141320680433"
      ]
     },
     "execution_count": 50,
     "metadata": {},
     "output_type": "execute_result"
    }
   ],
   "source": [
    "# OSR^2, has increased after tuning tree\n",
    "y_pred2 = dtr2_cv.predict(x_test)\n",
    "cv_osr2 = OSR2(dtr2_cv, x_test, y_test, y_train)\n",
    "cv_osr2"
   ]
  },
  {
   "cell_type": "code",
   "execution_count": 41,
   "id": "4560d0fa",
   "metadata": {
    "id": "17c6886a",
    "outputId": "52ff1563-3aff-40e1-87c5-ad689e4f0203"
   },
   "outputs": [
    {
     "name": "stdout",
     "output_type": "stream",
     "text": [
      "Test MSE for decision tree: 12083330929.813627\n"
     ]
    }
   ],
   "source": [
    "# MSE on test set, has decreased after tuning the tree\n",
    "cv_mse = mean_squared_error(y_pred2, y_test)\n",
    "print(\"Test MSE for decision tree:\", cv_mse)"
   ]
  },
  {
   "cell_type": "code",
   "execution_count": 42,
   "id": "b1559d17",
   "metadata": {
    "id": "9240dbe4",
    "outputId": "7be9c5c0-119c-461d-b8b4-7d6060b4f414"
   },
   "outputs": [
    {
     "data": {
      "text/plain": [
       "0.9423086840010003"
      ]
     },
     "execution_count": 42,
     "metadata": {},
     "output_type": "execute_result"
    }
   ],
   "source": [
    "# r^2 score of model on training set, has decreased after tuning the tree\n",
    "dtr2_cv.score(x_train, y_train)"
   ]
  },
  {
   "cell_type": "code",
   "execution_count": 43,
   "id": "cad01512",
   "metadata": {},
   "outputs": [
    {
     "data": {
      "text/plain": [
       "77996.01071220846"
      ]
     },
     "execution_count": 43,
     "metadata": {},
     "output_type": "execute_result"
    }
   ],
   "source": [
    "MAE(y_pred2, y_test)"
   ]
  },
  {
   "cell_type": "code",
   "execution_count": 44,
   "id": "0af462b9",
   "metadata": {
    "id": "682d67b8",
    "outputId": "50d221e8-5874-4878-f7b2-b5f0290f0b77"
   },
   "outputs": [
    {
     "data": {
      "text/html": [
       "<div>\n",
       "<style scoped>\n",
       "    .dataframe tbody tr th:only-of-type {\n",
       "        vertical-align: middle;\n",
       "    }\n",
       "\n",
       "    .dataframe tbody tr th {\n",
       "        vertical-align: top;\n",
       "    }\n",
       "\n",
       "    .dataframe thead th {\n",
       "        text-align: right;\n",
       "    }\n",
       "</style>\n",
       "<table border=\"1\" class=\"dataframe\">\n",
       "  <thead>\n",
       "    <tr style=\"text-align: right;\">\n",
       "      <th></th>\n",
       "      <th>Feature</th>\n",
       "      <th>Importance</th>\n",
       "    </tr>\n",
       "  </thead>\n",
       "  <tbody>\n",
       "    <tr>\n",
       "      <th>0</th>\n",
       "      <td>Per_capita_income</td>\n",
       "      <td>0.882721</td>\n",
       "    </tr>\n",
       "    <tr>\n",
       "      <th>1</th>\n",
       "      <td>Precipitation</td>\n",
       "      <td>0.000000</td>\n",
       "    </tr>\n",
       "    <tr>\n",
       "      <th>2</th>\n",
       "      <td>Population</td>\n",
       "      <td>0.023942</td>\n",
       "    </tr>\n",
       "    <tr>\n",
       "      <th>3</th>\n",
       "      <td>Year</td>\n",
       "      <td>0.026037</td>\n",
       "    </tr>\n",
       "    <tr>\n",
       "      <th>4</th>\n",
       "      <td>MonthNumeric</td>\n",
       "      <td>0.001605</td>\n",
       "    </tr>\n",
       "    <tr>\n",
       "      <th>5</th>\n",
       "      <td>PercentageOfBachelorDegree</td>\n",
       "      <td>0.000000</td>\n",
       "    </tr>\n",
       "    <tr>\n",
       "      <th>6</th>\n",
       "      <td>NumAirports</td>\n",
       "      <td>0.002220</td>\n",
       "    </tr>\n",
       "    <tr>\n",
       "      <th>7</th>\n",
       "      <td>GradRates</td>\n",
       "      <td>0.008424</td>\n",
       "    </tr>\n",
       "    <tr>\n",
       "      <th>8</th>\n",
       "      <td>total_law_enforcement</td>\n",
       "      <td>0.000252</td>\n",
       "    </tr>\n",
       "    <tr>\n",
       "      <th>9</th>\n",
       "      <td>AvgHouseholdSize</td>\n",
       "      <td>0.000000</td>\n",
       "    </tr>\n",
       "    <tr>\n",
       "      <th>10</th>\n",
       "      <td>ViolentCrimeRate</td>\n",
       "      <td>0.003005</td>\n",
       "    </tr>\n",
       "    <tr>\n",
       "      <th>11</th>\n",
       "      <td>HasCostco</td>\n",
       "      <td>0.000000</td>\n",
       "    </tr>\n",
       "    <tr>\n",
       "      <th>12</th>\n",
       "      <td>CollegeEnrollmentRate</td>\n",
       "      <td>0.000000</td>\n",
       "    </tr>\n",
       "    <tr>\n",
       "      <th>13</th>\n",
       "      <td>Avg18Younger</td>\n",
       "      <td>0.000000</td>\n",
       "    </tr>\n",
       "    <tr>\n",
       "      <th>14</th>\n",
       "      <td>Avg18Older</td>\n",
       "      <td>0.001946</td>\n",
       "    </tr>\n",
       "    <tr>\n",
       "      <th>15</th>\n",
       "      <td>PropertyCrimeRate</td>\n",
       "      <td>0.024474</td>\n",
       "    </tr>\n",
       "    <tr>\n",
       "      <th>16</th>\n",
       "      <td>NationalRiskIndex</td>\n",
       "      <td>0.025374</td>\n",
       "    </tr>\n",
       "    <tr>\n",
       "      <th>17</th>\n",
       "      <td>LocalTaxRate</td>\n",
       "      <td>0.000000</td>\n",
       "    </tr>\n",
       "    <tr>\n",
       "      <th>18</th>\n",
       "      <td>HasWalMart</td>\n",
       "      <td>0.000000</td>\n",
       "    </tr>\n",
       "    <tr>\n",
       "      <th>19</th>\n",
       "      <td>Urban</td>\n",
       "      <td>0.000000</td>\n",
       "    </tr>\n",
       "    <tr>\n",
       "      <th>20</th>\n",
       "      <td>Suburban</td>\n",
       "      <td>0.000000</td>\n",
       "    </tr>\n",
       "    <tr>\n",
       "      <th>21</th>\n",
       "      <td>Rural</td>\n",
       "      <td>0.000000</td>\n",
       "    </tr>\n",
       "  </tbody>\n",
       "</table>\n",
       "</div>"
      ],
      "text/plain": [
       "                       Feature  Importance\n",
       "0            Per_capita_income    0.882721\n",
       "1                Precipitation    0.000000\n",
       "2                   Population    0.023942\n",
       "3                         Year    0.026037\n",
       "4                 MonthNumeric    0.001605\n",
       "5   PercentageOfBachelorDegree    0.000000\n",
       "6                  NumAirports    0.002220\n",
       "7                    GradRates    0.008424\n",
       "8        total_law_enforcement    0.000252\n",
       "9             AvgHouseholdSize    0.000000\n",
       "10            ViolentCrimeRate    0.003005\n",
       "11                   HasCostco    0.000000\n",
       "12       CollegeEnrollmentRate    0.000000\n",
       "13                Avg18Younger    0.000000\n",
       "14                  Avg18Older    0.001946\n",
       "15           PropertyCrimeRate    0.024474\n",
       "16           NationalRiskIndex    0.025374\n",
       "17                LocalTaxRate    0.000000\n",
       "18                  HasWalMart    0.000000\n",
       "19                       Urban    0.000000\n",
       "20                    Suburban    0.000000\n",
       "21                       Rural    0.000000"
      ]
     },
     "execution_count": 44,
     "metadata": {},
     "output_type": "execute_result"
    }
   ],
   "source": [
    "#recreating tree with chosen optimal parameters and creating feature importance chart\n",
    "dtr3 = DecisionTreeRegressor(min_samples_leaf = 19,\n",
    "               min_samples_split= 2,\n",
    "               max_depth=5,\n",
    "               random_state= 88)\n",
    "\n",
    "dtr3 = dtr3.fit(x_train, y_train)\n",
    "\n",
    "pd.DataFrame({'Feature': x_train.columns, 'Importance': dtr3.feature_importances_})"
   ]
  },
  {
   "cell_type": "markdown",
   "id": "8f27a204",
   "metadata": {
    "id": "33f20941"
   },
   "source": [
    "The features that affect median house price the most are per capita income, year and national risk index. There are a number of features that have a feature importance of 0, meaning they have little effect on the target variable, including percentage of bachelor's degreees, whether or not there is a costco, average amount of people under 18, local tax rate, etc. "
   ]
  },
  {
   "cell_type": "code",
   "execution_count": 45,
   "id": "5f2cb749",
   "metadata": {},
   "outputs": [],
   "source": [
    "def MAE(y_test, y_pred):\n",
    "    return (np.mean(abs(y_test - y_pred)))"
   ]
  },
  {
   "cell_type": "code",
   "execution_count": 46,
   "id": "a02fd460",
   "metadata": {},
   "outputs": [],
   "source": [
    "def RMSE(y_test, y_pred):\n",
    "    return np.sqrt(np.mean((y_test - y_pred)**2))"
   ]
  },
  {
   "cell_type": "code",
   "execution_count": 52,
   "id": "9f8dbe76",
   "metadata": {
    "id": "e97fa368"
   },
   "outputs": [
    {
     "data": {
      "text/html": [
       "<div>\n",
       "<style scoped>\n",
       "    .dataframe tbody tr th:only-of-type {\n",
       "        vertical-align: middle;\n",
       "    }\n",
       "\n",
       "    .dataframe tbody tr th {\n",
       "        vertical-align: top;\n",
       "    }\n",
       "\n",
       "    .dataframe thead th {\n",
       "        text-align: right;\n",
       "    }\n",
       "</style>\n",
       "<table border=\"1\" class=\"dataframe\">\n",
       "  <thead>\n",
       "    <tr style=\"text-align: right;\">\n",
       "      <th></th>\n",
       "      <th>Decision Tree</th>\n",
       "      <th>Decision Tree with cv</th>\n",
       "    </tr>\n",
       "  </thead>\n",
       "  <tbody>\n",
       "    <tr>\n",
       "      <th>OSR2</th>\n",
       "      <td>0.896141</td>\n",
       "      <td>0.896141</td>\n",
       "    </tr>\n",
       "    <tr>\n",
       "      <th>RMSE</th>\n",
       "      <td>117390.314667</td>\n",
       "      <td>109924.205386</td>\n",
       "    </tr>\n",
       "    <tr>\n",
       "      <th>MAE</th>\n",
       "      <td>81429.549735</td>\n",
       "      <td>77996.010712</td>\n",
       "    </tr>\n",
       "  </tbody>\n",
       "</table>\n",
       "</div>"
      ],
      "text/plain": [
       "      Decision Tree  Decision Tree with cv\n",
       "OSR2       0.896141               0.896141\n",
       "RMSE  117390.314667          109924.205386\n",
       "MAE    81429.549735           77996.010712"
      ]
     },
     "execution_count": 52,
     "metadata": {},
     "output_type": "execute_result"
    }
   ],
   "source": [
    "performance = {'Decision Tree':[osr2, RMSE(y_test, y_pred), MAE(y_test, y_pred)],\n",
    "               'Decision Tree with cv':[cv_osr2, RMSE(y_test, y_pred2), MAE(y_test, y_pred2)]}\n",
    "\n",
    "performance_tbl = pd.DataFrame(performance, columns=['Decision Tree','Decision Tree with cv'])\n",
    "\n",
    "performance_tbl.index = ['OSR2', 'RMSE', 'MAE']\n",
    "performance_tbl"
   ]
  },
  {
   "cell_type": "code",
   "execution_count": 53,
   "id": "3cc5650d",
   "metadata": {},
   "outputs": [],
   "source": [
    "performance_tbl.to_csv('performance2.csv')"
   ]
  }
 ],
 "metadata": {
  "colab": {
   "name": "Project - Decision trees.ipynb",
   "provenance": []
  },
  "kernelspec": {
   "display_name": "Python 3",
   "language": "python",
   "name": "python3"
  },
  "language_info": {
   "codemirror_mode": {
    "name": "ipython",
    "version": 3
   },
   "file_extension": ".py",
   "mimetype": "text/x-python",
   "name": "python",
   "nbconvert_exporter": "python",
   "pygments_lexer": "ipython3",
   "version": "3.7.11"
  }
 },
 "nbformat": 4,
 "nbformat_minor": 5
}
